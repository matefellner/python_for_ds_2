{
 "cells": [
  {
   "cell_type": "markdown",
   "metadata": {},
   "source": [
    "# Python for Data Science\n",
    "\n",
    "## Lecture 5: Matplotlib"
   ]
  },
  {
   "cell_type": "markdown",
   "metadata": {},
   "source": [
    "## Data visualization  \n",
    "\n",
    "It is important to be able to present a set of data informatively for others (and it can help you as well).\n",
    "\n"
   ]
  },
  {
   "cell_type": "code",
   "execution_count": null,
   "metadata": {},
   "outputs": [],
   "source": [
    "import numpy as np\n",
    "import random as rn\n",
    "import matplotlib.pyplot as plt\n",
    "import pandas as pd\n",
    "# we will read data from csv files"
   ]
  },
  {
   "cell_type": "markdown",
   "metadata": {},
   "source": [
    "# Matplotlib\n",
    "- One of the best known plotting library in Python\n",
    "- We will go through examples in order to understand how it works"
   ]
  },
  {
   "cell_type": "markdown",
   "metadata": {},
   "source": [
    "# Squirrels of New York\n",
    "The data is in a csv (comma separated values) file which is uploaded to the homepage. Every line represents a squirrel which has been spotted. Reviewing the first line gives you an idea of what data is collected for each detection.\n",
    "\n",
    "long,lat,unique_squirrel_id,hectare,shift,date,hectare_squirrel_number,age,primary_fur_color,highlight_fur_color,\n",
    "combination_of_primary_and_highlight_color,color_notes,location,above_ground_sighter_measurement,specific_location,running,\n",
    "chasing,climbing,eating,foraging,other_activities,kuks,quaas,moans,tail_flags,tail_twitches,approaches,indifferent,runs_from,\n",
    "other_interactions,lat_long,zip_codes,community_districts,borough_boundaries,city_council_districts,police_precincts"
   ]
  },
  {
   "cell_type": "code",
   "execution_count": null,
   "metadata": {},
   "outputs": [],
   "source": [
    "import os\n",
    "\n",
    "df = pd.read_csv(os.path.join(\"data\", 'nyc_squirrels.csv'))\n",
    "df.head()"
   ]
  },
  {
   "cell_type": "code",
   "execution_count": null,
   "metadata": {},
   "outputs": [],
   "source": [
    "df[\"age\"].value_counts()"
   ]
  },
  {
   "cell_type": "code",
   "execution_count": null,
   "metadata": {},
   "outputs": [],
   "source": [
    "def unique_lists(column):\n",
    "    unique = column.value_counts()\n",
    "    return unique.index, unique.values"
   ]
  },
  {
   "cell_type": "code",
   "execution_count": null,
   "metadata": {},
   "outputs": [],
   "source": [
    "age_index, age_counts = unique_lists(df[\"age\"])"
   ]
  },
  {
   "cell_type": "code",
   "execution_count": null,
   "metadata": {},
   "outputs": [],
   "source": [
    "fig, axs = plt.subplots(1, 1, figsize=(5, 5))   # number of graphs and size\n",
    "axs.bar(age_index, age_counts)\n",
    "plt.show()"
   ]
  },
  {
   "cell_type": "markdown",
   "metadata": {},
   "source": [
    "<img src=\"https://matplotlib.org/_images/anatomy.png\" alt=\"Drawing\" style=\"width: 400px;\"/>"
   ]
  },
  {
   "cell_type": "markdown",
   "metadata": {},
   "source": [
    "### Multiple plots next to each other\n",
    "There are two approaches for Matplotlib. The recommended one is the object oriented approach, so we will use this too.\n",
    "\n",
    "Inside one picture, there can be multiple figures which we call `axes`. (Do not confuse with `axis`!) Plotting works for the ax which we set in the command.\n",
    "\n",
    "(The other approach is to always use the plt.command format for plotting, and then we would need to use a separate command to choose the figure)."
   ]
  },
  {
   "cell_type": "code",
   "execution_count": null,
   "metadata": {},
   "outputs": [],
   "source": [
    "fig, axs = plt.subplots(2, 2, figsize=(7, 10))\n",
    "\n",
    "unique, counts = unique_lists(df[\"age\"])\n",
    "axs[0, 0].bar(unique,counts)\n",
    "\n",
    "unique, counts = unique_lists(df[\"primary_fur_color\"])\n",
    "axs[0, 1].bar(unique,counts)\n",
    "\n",
    "\n",
    "unique, counts = unique_lists(df[\"location\"])\n",
    "axs[1, 0].bar(unique,counts)\n",
    "\n",
    "\n",
    "unique, counts = unique_lists(df[\"shift\"])\n",
    "axs[1, 1].bar(unique,counts)\n",
    "\n",
    "\n",
    "plt.show()"
   ]
  },
  {
   "cell_type": "code",
   "execution_count": null,
   "metadata": {},
   "outputs": [],
   "source": [
    "unique, counts = unique_lists(df[\"date\"])"
   ]
  },
  {
   "cell_type": "code",
   "execution_count": null,
   "metadata": {},
   "outputs": [],
   "source": [
    "unique = [str(x) for x in unique]\n",
    "print(unique)"
   ]
  },
  {
   "cell_type": "code",
   "execution_count": null,
   "metadata": {},
   "outputs": [],
   "source": [
    "counts"
   ]
  },
  {
   "cell_type": "code",
   "execution_count": null,
   "metadata": {},
   "outputs": [],
   "source": [
    "combined = list(zip(unique, counts))\n",
    "combined_sorted = sorted(combined, key=lambda x: x[0])\n",
    "\n",
    "unique, counts = zip(*combined_sorted)"
   ]
  },
  {
   "cell_type": "code",
   "execution_count": null,
   "metadata": {},
   "outputs": [],
   "source": [
    "fig, axs = plt.subplots(1, 1, figsize=(5, 5))\n",
    "axs.bar(unique,counts)\n",
    "plt.show()"
   ]
  },
  {
   "cell_type": "code",
   "execution_count": null,
   "metadata": {},
   "outputs": [],
   "source": [
    "fig, axs = plt.subplots(1, 1, figsize=(5, 5))\n",
    "axs.bar(unique,counts)\n",
    "labels = axs.get_xticklabels()\n",
    "plt.setp(labels, rotation=45, horizontalalignment='right')\n",
    "plt.show()\n",
    "\n"
   ]
  },
  {
   "cell_type": "code",
   "execution_count": null,
   "metadata": {},
   "outputs": [],
   "source": [
    "fig, axs = plt.subplots(1, 1, figsize=(5, 5))\n",
    "axs.bar(unique,counts)\n",
    "labels = axs.get_xticklabels()\n",
    "plt.setp(labels, rotation=45, horizontalalignment='right')\n",
    "axs.set(ylim=[50, 500], ylabel='Number of detections', xlabel='Date',\n",
    "       title='Squirrels in the Central Park')\n",
    "plt.show()\n"
   ]
  },
  {
   "cell_type": "code",
   "execution_count": null,
   "metadata": {},
   "outputs": [],
   "source": [
    "unique=[l[4:8]+\". \"+l[0:2]+\". \"+l[2:4]+\".\" for l in unique]\n",
    "\n",
    "fig, axs = plt.subplots(1, 1, figsize=(5, 5))\n",
    "axs.bar(unique,counts)\n",
    "labels = axs.get_xticklabels()\n",
    "plt.setp(labels, rotation=45, horizontalalignment='right')\n",
    "axs.set(ylim=[50, 500], ylabel='Number of detections', xlabel='Date',\n",
    "       title='Squirrels in the Central Park')\n",
    "plt.show()\n"
   ]
  },
  {
   "cell_type": "code",
   "execution_count": null,
   "metadata": {},
   "outputs": [],
   "source": [
    "fig, axs = plt.subplots(1, 1, figsize=(5, 5))\n",
    "axs.bar(unique,counts,label=\"Huge blue columns\")\n",
    "labels = axs.get_xticklabels()\n",
    "plt.setp(labels, rotation=45, horizontalalignment='right')\n",
    "axs.set(ylim=[50, 500], ylabel='Number of detections', xlabel='Date',\n",
    "       title='Squirrels in the Central Park')\n",
    "\n",
    "for group in [1,6,5]:\n",
    "    axs.text( group, counts[group], \"Too many squirrels\", fontsize=10,\n",
    "            verticalalignment=\"top\", rotation=90,color=\"white\")\n",
    "axs.legend()\n",
    "plt.show()\n",
    "\n"
   ]
  },
  {
   "cell_type": "code",
   "execution_count": null,
   "metadata": {},
   "outputs": [],
   "source": [
    "fig, axs = plt.subplots(1, 1, figsize=(5, 5))\n",
    "axs.bar(unique,counts)\n",
    "labels = axs.get_xticklabels()\n",
    "plt.setp(labels, rotation=45, horizontalalignment='right')\n",
    "axs.set(ylim=[50, 500], ylabel='Number of detections', xlabel='Date',\n",
    "       title='Squirrels in the Central Park')\n",
    "\n",
    "for group in [1,6,5]:\n",
    "    axs.text( group, counts[group], \"Too many squirrels\", fontsize=10,\n",
    "            verticalalignment=\"top\", rotation=90,color=\"white\")\n",
    "axs.plot(counts,color=\"red\")\n",
    "plt.show()"
   ]
  },
  {
   "cell_type": "markdown",
   "metadata": {},
   "source": [
    "# Pie charts"
   ]
  },
  {
   "cell_type": "code",
   "execution_count": null,
   "metadata": {},
   "outputs": [],
   "source": [
    "counts"
   ]
  },
  {
   "cell_type": "code",
   "execution_count": null,
   "metadata": {},
   "outputs": [],
   "source": [
    "\n",
    "unique, counts = unique_lists(df[\"primary_fur_color\"])\n",
    "\n",
    "fig, axs = plt.subplots(1, 1, figsize=(5, 5))\n",
    "axs.pie(counts,labels=unique)\n",
    "axs.set(title='Colours of squirrels in the Central Park')\n",
    "plt.show()\n",
    "\n"
   ]
  },
  {
   "cell_type": "code",
   "execution_count": null,
   "metadata": {},
   "outputs": [],
   "source": [
    "fig,ax = plt.subplots(1,1,figsize = (5,5))\n",
    "ax.axis('equal')\n",
    "langs = ['Sky', 'Sunny side of the Pyramid', 'Shady side of the Pyramid']\n",
    "nums = [285/360,60/360,15/360]\n",
    "colors=[\"lightskyblue\",\"yellow\",\"gold\"]\n",
    "ax.pie(nums, labels = langs, colors=colors,startangle=-50)\n",
    "plt.show()"
   ]
  },
  {
   "cell_type": "code",
   "execution_count": null,
   "metadata": {},
   "outputs": [],
   "source": [
    "labels = ['Frogs', 'Hogs', 'Dogs', 'Logs']\n",
    "sizes = [15, 30, 45, 10]\n",
    "explode = (0.1, 0.1, 0.1, 0.5)  # Amount of explosion\n",
    "\n",
    "fig1, ax1 = plt.subplots(figsize=(3,3))\n",
    "ax1.pie(sizes, explode=explode, labels=labels, autopct='%1.2f%%',\n",
    "        shadow=True, startangle=90)\n",
    "plt.show()"
   ]
  },
  {
   "cell_type": "markdown",
   "metadata": {},
   "source": [
    "## Function plotting"
   ]
  },
  {
   "cell_type": "code",
   "execution_count": null,
   "metadata": {},
   "outputs": [],
   "source": [
    "fig, axs = plt.subplots(1, 1, figsize=(5, 5))\n",
    "\n",
    "plt.plot([10,20,15,30], [40,50,10,30], lw=6)\n",
    "\n",
    "plt.show()"
   ]
  },
  {
   "cell_type": "code",
   "execution_count": null,
   "metadata": {},
   "outputs": [],
   "source": [
    "fig, axs = plt.subplots(1, 1, figsize=(5, 5))\n",
    "\n",
    "t = np.arange(0.0, 5.0, 0.01)\n",
    "s = np.cos(2*np.pi*t)\n",
    "plt.plot(t, s, lw=2)\n",
    "\n",
    "plt.show()"
   ]
  },
  {
   "cell_type": "code",
   "execution_count": null,
   "metadata": {},
   "outputs": [],
   "source": [
    "fig, axs = plt.subplots(1, 1, figsize=(5, 5))\n",
    "\n",
    "t = np.arange(0.0, 5.0, 0.01)\n",
    "s = np.cos(2*np.pi*t)\n",
    "line, = plt.plot(t, s, lw=2)\n",
    "\n",
    "axs.annotate('Local maximum', xy=(2, 1), xytext=(3, 1.5),\n",
    "             arrowprops=dict(facecolor='black', shrink=0.05),\n",
    "             )\n",
    "\n",
    "plt.ylim(-2, 2)\n",
    "plt.show()"
   ]
  },
  {
   "cell_type": "code",
   "execution_count": null,
   "metadata": {},
   "outputs": [],
   "source": [
    "def f(t):\n",
    "    return np.exp(-t) * np.cos(2*np.pi*t)\n",
    "\n",
    "t1 = np.arange(0.0, 5.0, 0.1)\n",
    "t2 = np.arange(0.0, 5.0, 0.02)\n",
    "\n",
    "fig, axs = plt.subplots(2, 1, figsize=(6, 6))\n",
    "axs[0].plot(t1, f(t1), 'ko')\n",
    "axs[0].plot( t2, f(t2), 'b')\n",
    "axs[1].plot(t1, np.cos(2*np.pi*t1), 'r.')\n",
    "plt.show()"
   ]
  },
  {
   "cell_type": "markdown",
   "metadata": {},
   "source": [
    "## Scatter plot\n",
    "This plots points based on two arrays, one for the x-coordinates and one for the y-coordinates."
   ]
  },
  {
   "cell_type": "code",
   "execution_count": null,
   "metadata": {},
   "outputs": [],
   "source": [
    "xpos=df[\"long\"].values\n",
    "ypos=df[\"lat\"].values\n",
    "xpos=np.array([float(a) for a in xpos])\n",
    "ypos=np.array([float(a) for a in ypos])\n",
    "\n",
    "fig, axs = plt.subplots(1, 1, figsize=(7, 7))\n",
    "axs.scatter(xpos,ypos)\n",
    "plt.show()"
   ]
  },
  {
   "cell_type": "code",
   "execution_count": null,
   "metadata": {
    "scrolled": true
   },
   "outputs": [],
   "source": [
    "fig, axs = plt.subplots(1, 1, figsize=(7, 7))\n",
    "axs.scatter(xpos,ypos,s=5)\n",
    "plt.show()"
   ]
  },
  {
   "cell_type": "code",
   "execution_count": null,
   "metadata": {},
   "outputs": [],
   "source": [
    "col=df[\"primary_fur_color\"]\n",
    "def colorpicker(c):\n",
    "    if c=='Gray': return \"gray\"\n",
    "    if c=='Cinnamon': return \"gold\"\n",
    "    if c=='Black': return \"black\"\n",
    "    return 'blue'\n",
    "    \n",
    "colors=[colorpicker(a) for a in col]\n",
    "\n",
    "fig, axs = plt.subplots(1, 1, figsize=(7, 7))\n",
    "axs.scatter(xpos,ypos,s=5,c=colors)\n",
    "plt.show()"
   ]
  },
  {
   "cell_type": "code",
   "execution_count": null,
   "metadata": {},
   "outputs": [],
   "source": [
    "col=df[\"location\"]\n",
    "def colorpicker(c):\n",
    "    if c=='Above Ground': return \"blue\"\n",
    "    return 'red'\n",
    "    \n",
    "colors=[colorpicker(a) for a in col]\n",
    "\n",
    "fig, axs = plt.subplots(1, 1, figsize=(7, 7))\n",
    "axs.scatter(xpos,ypos,s=5,c=colors)\n",
    "plt.show()"
   ]
  },
  {
   "cell_type": "markdown",
   "metadata": {},
   "source": [
    "## Additional information: maps\n"
   ]
  },
  {
   "cell_type": "code",
   "execution_count": null,
   "metadata": {},
   "outputs": [],
   "source": [
    "import folium      # This is one of the many map tools available"
   ]
  },
  {
   "cell_type": "code",
   "execution_count": null,
   "metadata": {},
   "outputs": [],
   "source": [
    "coords=list(zip(ypos,xpos))\n",
    "\n",
    "# Coordinates of New York\n",
    "NYC_COORD = [40.7828, -73.970]\n",
    "\n",
    "# Creating a map\n",
    "map_nyc = folium.Map(location=NYC_COORD, zoom_start=13,  width=640, height=480)\n",
    "\n",
    "# Using comprehension to plot the points onto the map\n",
    "[folium.CircleMarker(coords[i], radius=1,\n",
    "                color='#0080bb', fill_color='#0080bb').add_to(map_nyc) \n",
    "for i in range(len(coords))]\n",
    "\n",
    "# Show map\n",
    "map_nyc\n"
   ]
  },
  {
   "cell_type": "markdown",
   "metadata": {},
   "source": [
    "## Histogram\n",
    "\n",
    "The `party.csv` contains data of silence nuisances in New York"
   ]
  },
  {
   "cell_type": "code",
   "execution_count": null,
   "metadata": {},
   "outputs": [],
   "source": [
    "party_df = pd.read_csv(os.path.join(\"data\", \"party.csv\"))\n",
    "party_df.head()"
   ]
  },
  {
   "cell_type": "code",
   "execution_count": null,
   "metadata": {},
   "outputs": [],
   "source": [
    "hour_raw = party_df[\"Created Date\"].values\n",
    "\n",
    "hour_raw[0:10]"
   ]
  },
  {
   "cell_type": "code",
   "execution_count": null,
   "metadata": {},
   "outputs": [],
   "source": [
    "hour=[ int(row[11])*10+int(row[12]) for row in hour_raw]\n",
    "fig, axs = plt.subplots(1, 1, figsize=(6,6))\n",
    "plt.hist(hour,bins=24)\n",
    "plt.show()"
   ]
  },
  {
   "cell_type": "code",
   "execution_count": null,
   "metadata": {},
   "outputs": [],
   "source": [
    "hour=[ (int(row[11])*10+int(row[12]))*3600+(int(row[14])*10+int(row[15]))*60+int(row[17])*10+int(row[18]) for row in hour_raw]\n",
    "fig, axs = plt.subplots(1, 1, figsize=(6, 6))\n",
    "plt.hist(hour,bins=100)\n",
    "plt.show()"
   ]
  },
  {
   "cell_type": "code",
   "execution_count": null,
   "metadata": {},
   "outputs": [],
   "source": [
    "xpos=party_df[\"Latitude\"].values\n",
    "ypos=party_df[\"Longitude\"].values\n",
    "\n",
    "NYC_COORD = [40.7128, -74.0059]\n",
    "\n",
    "coords=list(zip(xpos,ypos))\n",
    "\n",
    "map_nyc = folium.Map(location=NYC_COORD, zoom_start=12, \n",
    " width=640, height=480)\n",
    "\n",
    "[folium.CircleMarker(coord, radius=1,\n",
    "                color='#0080bb', fill_color='#0080bb').add_to(map_nyc) \n",
    "for coord in coords if not np.isnan(coord[0])]\n",
    "\n",
    "map_nyc"
   ]
  },
  {
   "cell_type": "markdown",
   "metadata": {},
   "source": [
    "## Plotting a picture based on arrays"
   ]
  },
  {
   "cell_type": "code",
   "execution_count": null,
   "metadata": {},
   "outputs": [],
   "source": [
    "# A more advanced labyrinth printer\n",
    "def printmaze(image):\n",
    "    fig = plt.figure(figsize = (6,6))  \n",
    "    ax = fig.add_subplot(111)\n",
    "    ax.imshow(image)\n",
    "    plt.show()\n",
    "printmaze(np.array([[1,1,1],[1,0,1],[1,1,1]]))                "
   ]
  },
  {
   "cell_type": "code",
   "execution_count": null,
   "metadata": {},
   "outputs": [],
   "source": [
    "#Labyrinth\n",
    "def makemaze(w=16,h=8):\n",
    "    maze=np.ones((2*w+1,2*h+1))\n",
    "    vis=np.zeros((2*w+1,2*h+1))\n",
    " \n",
    "    def walk(x, y):\n",
    "        vis[x][y] = 1\n",
    "        maze[x,y]=0\n",
    "          \n",
    "        d = [(x - 2, y), (x, y + 2), (x + 2, y), (x, y - 2)]\n",
    "        rn.shuffle(d)\n",
    "        \n",
    "        for (xx, yy) in d:\n",
    "            if (not xx in range(2*w+1)) or (not yy in range(2*h+1)) or vis[xx][yy]: \n",
    "                continue\n",
    "            if xx == x: \n",
    "                maze[x][max(y, yy)-1] = 0\n",
    "            if yy == y: \n",
    "                maze[max(x, xx)-1][y] = 0\n",
    "            walk(xx, yy)\n",
    " \n",
    "    walk(2*rn.randrange(w)+1, 2*rn.randrange(h)+1)\n",
    " \n",
    "    return maze\n"
   ]
  },
  {
   "cell_type": "code",
   "execution_count": null,
   "metadata": {},
   "outputs": [],
   "source": [
    "printmaze(makemaze(30,30))"
   ]
  },
  {
   "cell_type": "markdown",
   "metadata": {},
   "source": [
    "### Save as image\n",
    "`plt.savefig(\"name.png\")`"
   ]
  },
  {
   "cell_type": "markdown",
   "metadata": {},
   "source": [
    "# Examples"
   ]
  },
  {
   "cell_type": "markdown",
   "metadata": {},
   "source": [
    "### More examples: https://matplotlib.org/gallery/index.html"
   ]
  },
  {
   "cell_type": "code",
   "execution_count": null,
   "metadata": {},
   "outputs": [],
   "source": [
    "def koch_snowflake(order, scale=10):\n",
    "    \"\"\"\n",
    "    Return two lists x, y of point coordinates of the Koch snowflake.\n",
    "\n",
    "    Arguments\n",
    "    ---------\n",
    "    order : int\n",
    "        The recursion depth.\n",
    "    scale : float\n",
    "        The extent of the snowflake (edge length of the base triangle).\n",
    "    \"\"\"\n",
    "    def _koch_snowflake_complex(order):\n",
    "        if order == 0:\n",
    "            # initial triangle\n",
    "            angles = np.array([0, 120, 240]) + 90\n",
    "            return scale / np.sqrt(3) * np.exp(np.deg2rad(angles) * 1j)\n",
    "        else:\n",
    "            ZR = 0.5 - 0.5j * np.sqrt(3) / 3\n",
    "\n",
    "            p1 = _koch_snowflake_complex(order - 1)  # start points\n",
    "            p2 = np.roll(p1, shift=-1)  # end points\n",
    "            dp = p2 - p1  # connection vectors\n",
    "\n",
    "            new_points = np.empty(len(p1) * 4, dtype=np.complex128)\n",
    "            new_points[::4] = p1\n",
    "            new_points[1::4] = p1 + dp / 3\n",
    "            new_points[2::4] = p1 + dp * ZR\n",
    "            new_points[3::4] = p1 + dp / 3 * 2\n",
    "            return new_points\n",
    "\n",
    "    points = _koch_snowflake_complex(order)\n",
    "    x, y = points.real, points.imag\n",
    "    return x, y\n"
   ]
  },
  {
   "cell_type": "code",
   "execution_count": null,
   "metadata": {},
   "outputs": [],
   "source": [
    "x, y = koch_snowflake(order=5)\n",
    "\n",
    "plt.figure(figsize=(8, 8))\n",
    "plt.axis('equal')\n",
    "plt.fill(x, y)\n",
    "plt.show()"
   ]
  },
  {
   "cell_type": "code",
   "execution_count": null,
   "metadata": {},
   "outputs": [],
   "source": [
    "mu, sigma = 100, 15\n",
    "x = mu + sigma * np.random.randn(10000)\n",
    "\n",
    "# the histogram of the data\n",
    "n, bins, patches = plt.hist(x, 50, density=1, facecolor='g', alpha=0.75)\n",
    "\n",
    "\n",
    "plt.xlabel('Smarts')\n",
    "plt.ylabel('Probability')\n",
    "plt.title('Histogram of IQ')\n",
    "plt.text(60, .025, r'$\\mu=100,\\ \\sigma=15$')\n",
    "plt.axis([40, 160, 0, 0.03])\n",
    "plt.grid(True)\n",
    "plt.show()"
   ]
  },
  {
   "cell_type": "code",
   "execution_count": null,
   "metadata": {},
   "outputs": [],
   "source": [
    "# First create some toy data:\n",
    "x = np.linspace(0, 2*np.pi, 400)\n",
    "y = np.sin(x**2)\n",
    "\n",
    "# Create just a figure and only one subplot\n",
    "fig, ax = plt.subplots()\n",
    "ax.plot(x, y)\n",
    "ax.set_title('Simple plot')\n",
    "\n",
    "# Create two subplots and unpack the output array immediately\n",
    "f, (ax1, ax2) = plt.subplots(1, 2, sharey=True)\n",
    "ax1.plot(x, y)\n",
    "ax1.set_title('Sharing Y axis')\n",
    "ax2.scatter(x, y)\n",
    "\n",
    "# Create four polar axes and access them through the returned array\n",
    "fig, axs = plt.subplots(2, 2, subplot_kw=dict(polar=True))\n",
    "axs[0, 0].plot(x, y)\n",
    "axs[1, 1].scatter(x, y)\n",
    "\n",
    "\n"
   ]
  },
  {
   "cell_type": "code",
   "execution_count": null,
   "metadata": {},
   "outputs": [],
   "source": [
    "data = {'a': np.arange(50),\n",
    "        'c': np.random.randint(0, 50, 50),\n",
    "        'd': np.random.randn(50)}\n",
    "data['b'] = data['a'] + 10 * np.random.randn(50)\n",
    "data['d'] = np.abs(data['d']) * 100\n",
    "\n",
    "plt.scatter('a', 'b', c='c', s='d', data=data)\n",
    "plt.xlabel('entry a')\n",
    "plt.ylabel('entry b')\n",
    "plt.show()"
   ]
  },
  {
   "cell_type": "code",
   "execution_count": null,
   "metadata": {},
   "outputs": [],
   "source": [
    "t = np.arange(0., 5., 0.2)\n",
    "\n",
    "# red dashes, blue squares and green triangles\n",
    "plt.plot(t, t, 'r--', t, t**2, 'bs', t, t**3, 'g^')\n",
    "plt.show()"
   ]
  },
  {
   "cell_type": "code",
   "execution_count": null,
   "metadata": {},
   "outputs": [],
   "source": []
  }
 ],
 "metadata": {
  "kernelspec": {
   "display_name": "Python 3",
   "language": "python",
   "name": "python3"
  },
  "language_info": {
   "codemirror_mode": {
    "name": "ipython",
    "version": 3
   },
   "file_extension": ".py",
   "mimetype": "text/x-python",
   "name": "python",
   "nbconvert_exporter": "python",
   "pygments_lexer": "ipython3",
   "version": "3.8.8"
  }
 },
 "nbformat": 4,
 "nbformat_minor": 4
}
